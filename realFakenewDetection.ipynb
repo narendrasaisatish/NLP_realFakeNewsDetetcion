{
 "cells": [
  {
   "cell_type": "code",
   "execution_count": 1,
   "id": "48643bac-3cf7-4ee9-b67b-3934c200ab19",
   "metadata": {},
   "outputs": [],
   "source": [
    "# Import necessary libraries\n",
    "import numpy as np\n",
    "import pandas as pd\n",
    "import re\n",
    "import string\n",
    "import matplotlib.pyplot as plt\n",
    "import seaborn as sns\n",
    "from sklearn.model_selection import train_test_split\n",
    "from sklearn.metrics import accuracy_score, classification_report, confusion_matrix\n",
    "from sklearn.feature_extraction.text import TfidfVectorizer\n",
    "from sklearn.linear_model import LogisticRegression\n",
    "from sklearn.tree import DecisionTreeClassifier\n",
    "from sklearn.ensemble import RandomForestClassifier"
   ]
  },
  {
   "cell_type": "code",
   "execution_count": 2,
   "id": "61ee5baa-6a35-422e-aa82-5bb74d5753eb",
   "metadata": {},
   "outputs": [],
   "source": [
    "# Load datasets\n",
    "data_true = pd.read_csv('datasets/True.csv')\n",
    "data_fake = pd.read_csv('datasets/Fake.csv')"
   ]
  },
  {
   "cell_type": "code",
   "execution_count": 3,
   "id": "e169591f-7ba1-4162-8648-d072bb4b844d",
   "metadata": {},
   "outputs": [],
   "source": [
    "# Label datasets\n",
    "data_true[\"label\"] = 1\n",
    "data_fake[\"label\"] = 0"
   ]
  },
  {
   "cell_type": "code",
   "execution_count": 4,
   "id": "ca138f10-6cac-4e8d-9dfd-88b4d73d3275",
   "metadata": {},
   "outputs": [],
   "source": [
    "# Drop unnecessary columns\n",
    "drop_true_data = data_true.drop(['title', 'subject', 'date'], axis=1)\n",
    "drop_fake_data = data_fake.drop(['title', 'subject', 'date'], axis=1)"
   ]
  },
  {
   "cell_type": "code",
   "execution_count": 5,
   "id": "b7b3928c-192c-4389-a8ca-0f57ade3687d",
   "metadata": {},
   "outputs": [],
   "source": [
    "# Concatenate true and fake data\n",
    "data = pd.concat([drop_true_data, drop_fake_data], axis=0).sample(frac=1).reset_index(drop=True)"
   ]
  },
  {
   "cell_type": "code",
   "execution_count": 6,
   "id": "f7a5802d-60ca-4d38-a1c6-fd1aaaa49b8c",
   "metadata": {},
   "outputs": [],
   "source": [
    "# Define text preprocessing function\n",
    "def preprocess_text(text):\n",
    "    text = text.lower()\n",
    "    text = re.sub(r'\\[.*?\\]', '', text)\n",
    "    text = re.sub(r'\\W', ' ', text)\n",
    "    text = re.sub(r'https?://\\S+|www\\.\\S+', '', text)\n",
    "    text = re.sub(r'<.*?>+', '', text)\n",
    "    text = re.sub(f'[{re.escape(string.punctuation)}]', '', text)\n",
    "    text = re.sub(r'\\w*\\d\\w*', '', text)\n",
    "    return text"
   ]
  },
  {
   "cell_type": "code",
   "execution_count": 7,
   "id": "180cac33-9396-4f73-b116-8e26971ae917",
   "metadata": {},
   "outputs": [],
   "source": [
    "# Apply preprocessing to the dataset\n",
    "data['text'] = data['text'].apply(preprocess_text)"
   ]
  },
  {
   "cell_type": "code",
   "execution_count": 8,
   "id": "f8aea454-00a1-48d7-8f8b-906b5ee3d17b",
   "metadata": {},
   "outputs": [],
   "source": [
    "# Define feature and target variables\n",
    "x = data['text']\n",
    "y = data['label']"
   ]
  },
  {
   "cell_type": "code",
   "execution_count": 9,
   "id": "eb57fe50-d117-445e-8269-def6567e8a5f",
   "metadata": {},
   "outputs": [],
   "source": [
    "# Split data into training and testing sets\n",
    "x_train, x_test, y_train, y_test = train_test_split(x, y, test_size=0.25, random_state=42)"
   ]
  },
  {
   "cell_type": "code",
   "execution_count": 10,
   "id": "0be68b6a-fb82-401d-8ca0-d88d5fdfd3de",
   "metadata": {},
   "outputs": [],
   "source": [
    "# Vectorize text data using TF-IDF\n",
    "vectorizer = TfidfVectorizer()\n",
    "x_train_vectorized = vectorizer.fit_transform(x_train)\n",
    "x_test_vectorized = vectorizer.transform(x_test)"
   ]
  },
  {
   "cell_type": "code",
   "execution_count": 11,
   "id": "b9d2e8b7-b6f1-491e-bab3-fe2f6f7235ec",
   "metadata": {},
   "outputs": [],
   "source": [
    "# Define and train classification models\n",
    "models = {\n",
    "    \"Logistic Regression\": LogisticRegression(),\n",
    "    \"Decision Tree\": DecisionTreeClassifier(),\n",
    "    \"Random Forest\": RandomForestClassifier()\n",
    "}"
   ]
  },
  {
   "cell_type": "code",
   "execution_count": 12,
   "id": "6cf78935-a44b-4983-871f-33f26309c5f7",
   "metadata": {},
   "outputs": [],
   "source": [
    "# Function to evaluate model performance\n",
    "def evaluate_model(model, x_test, y_test):\n",
    "    y_pred = model.predict(x_test)\n",
    "    print(f\"Model: {model.__class__.__name__}\")\n",
    "    print(\"Accuracy:\", accuracy_score(y_test, y_pred))\n",
    "    print(\"Classification Report:\\n\", classification_report(y_test, y_pred))\n",
    "    print(\"Confusion Matrix:\\n\", confusion_matrix(y_test, y_pred))\n",
    "    print(\"\\n\" + \"=\"*60 + \"\\n\")"
   ]
  },
  {
   "cell_type": "code",
   "execution_count": 13,
   "id": "fa026e3c-cba3-4902-be0b-aa304d32f9c9",
   "metadata": {},
   "outputs": [
    {
     "name": "stdout",
     "output_type": "stream",
     "text": [
      "Model: LogisticRegression\n",
      "Accuracy: 0.9878841870824053\n",
      "Classification Report:\n",
      "               precision    recall  f1-score   support\n",
      "\n",
      "           0       0.99      0.99      0.99      5820\n",
      "           1       0.99      0.99      0.99      5405\n",
      "\n",
      "    accuracy                           0.99     11225\n",
      "   macro avg       0.99      0.99      0.99     11225\n",
      "weighted avg       0.99      0.99      0.99     11225\n",
      "\n",
      "Confusion Matrix:\n",
      " [[5753   67]\n",
      " [  69 5336]]\n",
      "\n",
      "============================================================\n",
      "\n",
      "Model: DecisionTreeClassifier\n",
      "Accuracy: 0.996792873051225\n",
      "Classification Report:\n",
      "               precision    recall  f1-score   support\n",
      "\n",
      "           0       1.00      1.00      1.00      5820\n",
      "           1       1.00      1.00      1.00      5405\n",
      "\n",
      "    accuracy                           1.00     11225\n",
      "   macro avg       1.00      1.00      1.00     11225\n",
      "weighted avg       1.00      1.00      1.00     11225\n",
      "\n",
      "Confusion Matrix:\n",
      " [[5803   17]\n",
      " [  19 5386]]\n",
      "\n",
      "============================================================\n",
      "\n",
      "Model: RandomForestClassifier\n",
      "Accuracy: 0.9897550111358575\n",
      "Classification Report:\n",
      "               precision    recall  f1-score   support\n",
      "\n",
      "           0       0.99      0.99      0.99      5820\n",
      "           1       0.99      0.99      0.99      5405\n",
      "\n",
      "    accuracy                           0.99     11225\n",
      "   macro avg       0.99      0.99      0.99     11225\n",
      "weighted avg       0.99      0.99      0.99     11225\n",
      "\n",
      "Confusion Matrix:\n",
      " [[5776   44]\n",
      " [  71 5334]]\n",
      "\n",
      "============================================================\n",
      "\n"
     ]
    }
   ],
   "source": [
    "# Train and evaluate each model\n",
    "for name, model in models.items():\n",
    "    model.fit(x_train_vectorized, y_train)\n",
    "    evaluate_model(model, x_test_vectorized, y_test)"
   ]
  },
  {
   "cell_type": "code",
   "execution_count": 15,
   "id": "c4cd49ac-830c-492f-974f-38ae665f60d2",
   "metadata": {},
   "outputs": [],
   "source": [
    "# Test the system with a sample news\n",
    "sample_news = \"\"\"\n",
    "BREAKING: Scientists confirm that a giant asteroid will strike Earth next month, causing widespread destruction...\n",
    "\"\"\"\n",
    "cleaned_sample_news = preprocess_text(sample_news)\n",
    "sample_vector = vectorizer.transform([cleaned_sample_news])"
   ]
  },
  {
   "cell_type": "code",
   "execution_count": 18,
   "id": "f1eb7d80-0320-4f35-af4c-356d646c664c",
   "metadata": {},
   "outputs": [
    {
     "name": "stdout",
     "output_type": "stream",
     "text": [
      "Sample News Prediction (Logistic Regression): FAKE\n"
     ]
    }
   ],
   "source": [
    "# Predict using Random Forest model as example\n",
    "prediction = models[\"Random Forest\"].predict(sample_vector)\n",
    "print(\"Sample News Prediction (Logistic Regression):\", \"FAKE\" if prediction[0] == 0 else \"TRUE\")"
   ]
  },
  {
   "cell_type": "code",
   "execution_count": null,
   "id": "d2b4ac4d-3e7f-4f44-8b5f-08b0eb0ea95f",
   "metadata": {},
   "outputs": [],
   "source": []
  }
 ],
 "metadata": {
  "kernelspec": {
   "display_name": "Python 3 (ipykernel)",
   "language": "python",
   "name": "python3"
  },
  "language_info": {
   "codemirror_mode": {
    "name": "ipython",
    "version": 3
   },
   "file_extension": ".py",
   "mimetype": "text/x-python",
   "name": "python",
   "nbconvert_exporter": "python",
   "pygments_lexer": "ipython3",
   "version": "3.11.7"
  }
 },
 "nbformat": 4,
 "nbformat_minor": 5
}
